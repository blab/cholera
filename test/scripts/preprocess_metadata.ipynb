{
 "cells": [
  {
   "cell_type": "markdown",
   "id": "542a5105-6345-4418-8bfb-69fc94d8c227",
   "metadata": {},
   "source": [
    "# Preprocess metadata.tsv"
   ]
  },
  {
   "cell_type": "code",
   "execution_count": 150,
   "id": "8033a4a1-d8cc-49c0-9dbf-85e6c4fcd6b6",
   "metadata": {},
   "outputs": [],
   "source": [
    "library(data.table)\n",
    "library(lubridate)\n",
    "library(zoo)\n",
    "library(reshape)\n",
    "library(tidyverse) "
   ]
  },
  {
   "cell_type": "code",
   "execution_count": 151,
   "id": "f9c5545a-15e8-4e55-8f56-87f2a2fe94b8",
   "metadata": {},
   "outputs": [],
   "source": [
    "setwd('/Users/nashwaahmed/OneDrive - UW/git/cholera/bactopia-runs/preprocess_metadata/')"
   ]
  },
  {
   "cell_type": "code",
   "execution_count": 152,
   "id": "951b6b98-82c1-4f6d-94ba-b6a313d06e18",
   "metadata": {},
   "outputs": [],
   "source": [
    "metadata <- read.csv('metadata_all.txt', sep = '\\t', header = TRUE)"
   ]
  },
  {
   "cell_type": "code",
   "execution_count": 153,
   "id": "43d6b629-22e3-4ce6-af90-a104b433713b",
   "metadata": {},
   "outputs": [],
   "source": [
    "metadata <- metadata %>% rename(source = source..detailed.)"
   ]
  },
  {
   "cell_type": "code",
   "execution_count": 154,
   "id": "259bf892-bd23-41a4-8166-83e9887a47e7",
   "metadata": {},
   "outputs": [],
   "source": [
    "metadata <- metadata %>%\n",
    "  mutate(serotype = case_when(\n",
    "    serotype_phenotype == \"\" & serotype.phenotype == \"\" ~ NA,\n",
    "    serotype_phenotype == \"\" & serotype.phenotype != \"\" ~ serotype.phenotype,\n",
    "    serotype_phenotype != \"\" & serotype.phenotype == \"\" ~ serotype_phenotype,\n",
    "    serotype_phenotype == serotype.phenotype ~ serotype_phenotype\n",
    "  ))"
   ]
  },
  {
   "cell_type": "code",
   "execution_count": 155,
   "id": "9be16eb5-77c3-4d17-be85-0e855ab03c82",
   "metadata": {},
   "outputs": [],
   "source": [
    "metadata <- metadata %>% select(c(id, displayname, strain_id, latitude, longitude, year, serotype, source, isolation)) "
   ]
  },
  {
   "cell_type": "code",
   "execution_count": 156,
   "id": "b6717a3a-be68-459b-9eb4-ef5ac229389e",
   "metadata": {},
   "outputs": [],
   "source": [
    "metadata <- metadata %>% drop_na(isolation, year)"
   ]
  },
  {
   "cell_type": "markdown",
   "id": "46671f15-1f54-47e1-82a8-6b9d0a1c97f8",
   "metadata": {},
   "source": [
    "### date"
   ]
  },
  {
   "cell_type": "code",
   "execution_count": 157,
   "id": "ebbfb746-11cd-4eff-afd0-f30c75a269a9",
   "metadata": {},
   "outputs": [],
   "source": [
    "metadata <- metadata %>% mutate(date = paste0(as.character(year), \"-XX-XX\"))"
   ]
  },
  {
   "cell_type": "markdown",
   "id": "d9893bd1-4a86-4a80-8d2c-7d0ca2e7edaf",
   "metadata": {},
   "source": [
    "### isolation source"
   ]
  },
  {
   "cell_type": "code",
   "execution_count": 158,
   "id": "d4501594-b552-4310-b1d7-0c3297283b5a",
   "metadata": {},
   "outputs": [],
   "source": [
    "clinical = c('Clinical', 'Human', 'Carrier', 'stool', 'stool (clinical index case or clinical household contact)',\n",
    "            'rectal swab culture', 'Clinical (diarrhoea)','Clinical (stool)','Human (household contact)', 'Human (traveller)', \n",
    "            'Human (carriere)', 'Humana', 'Human (refugee)', 'clinical', 'blood', 'Human (feces)', 'household water source for clinical isolate',\n",
    "            'rectal swab culture') \n",
    "env = c('Environmental', 'river', 'enviromental (river water)',  'River water', 'Environment', 'Sea water', 'Danube water' )\n",
    "food = c('Aquatic animal (soft-shelled turtle, agricultural market)', 'Food', 'fish', 'Sea Water' )\n",
    "animal = c('Soft-shelled turtle' ) \n",
    "#other = c() \n",
    "\n",
    "metadata <- metadata %>% mutate(isolation_source = case_when(\n",
    "                                                 source %in% clinical ~ 'Clinical',  \n",
    "                                                 source %in% env ~ 'Environmental',\n",
    "                                                 source %in% food ~ 'Food',\n",
    "                                                 source %in% animal ~ 'Animal'\n",
    "                        )) \n"
   ]
  },
  {
   "cell_type": "markdown",
   "id": "4cad89b6-55b2-4a31-bd21-e25a218cb3b1",
   "metadata": {},
   "source": [
    "### geolocation (UN geoscheme)"
   ]
  },
  {
   "cell_type": "code",
   "execution_count": 159,
   "id": "dde9c861-9537-4e86-a1bc-fccbd5aa98d3",
   "metadata": {},
   "outputs": [],
   "source": [
    "metadata <- metadata %>% rename(country = isolation)"
   ]
  },
  {
   "cell_type": "code",
   "execution_count": 160,
   "id": "3c13dace-b3b1-47cf-8dcf-4f6f30961214",
   "metadata": {},
   "outputs": [],
   "source": [
    "northern_america <- c('Canada', 'USA')\n",
    "southern_america <- c('Argentina', 'Bolivia', 'Brazil', 'Chile', 'Colombia', 'Ecuador', 'French Guiana', 'Guyana', 'Paraguay', 'Peru', 'Suriname', 'Uruguay', 'Venezuela')\n",
    "central_america  <- c(\"Belize\", \"Costa Rica\", \"El Salvador\", \"Guatemala\", \"Honduras\", \"Mexico\", \"Nicaragua\", \"Panama\")\n",
    "carribbean <- c(\"Antigua and Barbuda\", \"Bahamas\", \"Barbados\", \"Cuba\", \"Dominica\", \"Dominican Republic\", \"Grenada\", \"Haiti\", \"Jamaica\", \"Saint Kitts and Nevis\", \"Saint Lucia\", \"Saint Vincent and the Grenadines\", \"Trinidad and Tobago\")\n",
    "    \n",
    "northern_africa <- c('Algeria', 'Egypt', 'Libya', 'Morocco', 'Sudan', 'Tunisia', 'Western Sahara')\n",
    "eastern_africa <- c('Burundi', 'Comoros', 'Djibouti', 'Eritrea', 'Ethiopia', 'Kenya', 'Madagascar', 'Malawi', 'Mauritius', 'Mayotte', 'Mozambique', 'Reunion', 'Rwanda', 'Seychelles', 'Somalia', 'South Sudan', 'Tanzania', 'Uganda', 'Zambia', 'Zimbabwe')\n",
    "central_africa <- c('Angola', 'Cameroon', 'Central African Republic', 'Chad', 'Congo', 'Democratic Republic of the Congo', 'Equatorial Guinea', 'Gabon', 'Sao Tome and Principe')\n",
    "southern_africa <- c('Botswana', 'Eswatini', 'Lesotho', 'Namibia', 'South Africa')\n",
    "western_africa <- c('Benin', 'Burkina Faso', 'Cape Verde', 'Gambia', 'Ghana', 'Guinea', 'Guinea Bissau', 'Ivory Coast', 'Liberia', 'Mali', 'Mauritania', 'Niger', 'Nigeria', 'Saint Helena', 'Senegal', 'Sierra Leone', 'Togo')\n",
    "    \n",
    "eastern_asia <- c('China', 'China Macao SAR', 'China Hong Kong SAR', 'Japan', 'Mongolia', 'North Korea', 'South Korea')\n",
    "western_central_asia <- c('Kazakhstan', 'Kyrgyzstan', 'Tajikistan', 'Turkmenistan', 'Uzbekistan', 'Armenia', 'Azerbaijan', 'Bahrain', 'Cyprus', 'Georgia', 'Iraq', 'Israel', 'Jordan', 'Kuwait', 'Lebanon', 'Oman', 'Palestine', 'Qatar', 'Saudi Arabia', 'Syria', 'Turkey', 'United Arab Emirates', 'Yemen')\n",
    "southeastern_asia <- c('Brunei Darussalam', 'Cambodia', 'Indonesia', 'Laos', 'Malaysia', 'Myanmar', 'Philippines', 'Singapore', 'Thailand', 'Timor Leste', 'Viet Nam', 'Vietnam')\n",
    "southern_asia <- c('Afghanistan', 'Bangladesh', 'Bhutan', 'India', 'Iran', 'Maldives', 'Nepal', 'Pakistan', 'Sri Lanka')\n",
    "\n",
    "    \n",
    "eastern_europe <- c('Belarus', 'Bulgaria', 'Czechia', 'Hungary', 'Poland', 'Republic of Moldova', 'Romania', 'Russia', 'Slovakia', 'Ukraine')\n",
    "northern_europe <- c('Denmark', 'Estonia', 'Faroe Islands', 'Finland', 'Iceland', 'Ireland', 'Latvia', 'Lithuania', 'Norway', 'Svalbard and Jan Mayen Islands', 'Sweden', 'United Kingdom')\n",
    "southern_europe <- c('Albania', 'Andorra', 'Bosnia and Herzegovina', 'Croatia', 'Gibraltar', 'Greece', 'Italy', 'Malta', 'North Macedonia', 'Portugal', 'San Marino', 'The former state union Serbia and Montenegro', 'Slovenia', 'Spain', 'Vatican')\n",
    "western_europe <- c('Austria', 'Belgium', 'France', 'Germany', 'Liechtenstein', 'Luxembourg', 'Monaco', 'Netherlands', 'Switzerland')\n",
    "    \n",
    "oceania <- c('American Samoa', 'Australia', 'Cook Islands', 'Fiji', 'French Polynesia', 'Guam', 'Kiribati', 'Marshall Islands', 'Micronesia', 'Nauru', 'New Caledonia', 'New Zealand', 'Niue', 'Norfolk Island', 'Northern Mariana Islands', 'Palau', 'Papua New Guinea', 'Pitcairn', 'Samoa', 'Solomon Islands', 'Tokelau', 'Tonga', 'Tuvalu')"
   ]
  },
  {
   "cell_type": "code",
   "execution_count": 161,
   "id": "e185eac4-1dce-498e-a6af-fa474dd1c03d",
   "metadata": {},
   "outputs": [],
   "source": [
    "metadata <- metadata %>% mutate(location = country) %>% \n",
    "             mutate(subregion = case_when(\n",
    "                                location %in% northern_america ~ 'North America',\n",
    "                                location %in% southern_america ~ 'South America',\n",
    "                                location %in% central_america ~ 'Central America',\n",
    "                                location %in% carribbean ~ 'Carribbean',\n",
    "                                location %in% northern_europe ~ 'Northern Europe',\n",
    "                                location %in% eastern_europe ~ 'Eastern Europe',\n",
    "                                location %in% southern_europe ~ 'Southern Europe',\n",
    "                                location %in% western_europe ~ 'Western Europe',\n",
    "                                location %in% oceania ~ 'Oceania',\n",
    "                                location %in% eastern_asia ~ 'East Asia',\n",
    "                                location %in% southeastern_asia ~ 'Southeast Asia',\n",
    "                                location %in% southern_asia ~ 'South Asia',\n",
    "                                location %in% western_central_asia ~ 'Western/Central Asia',\n",
    "                                location %in% northern_africa ~ 'North Africa', \n",
    "                                location %in% eastern_africa ~ 'East Africa',\n",
    "                                location %in% central_africa ~ 'Central Africa', \n",
    "                                location %in% southern_africa ~ 'Southern Africa',\n",
    "                                location %in% western_africa ~ 'West Africa'))"
   ]
  },
  {
   "cell_type": "code",
   "execution_count": 162,
   "id": "fb98b1ca-3269-4612-809a-f1187ace5bff",
   "metadata": {},
   "outputs": [],
   "source": [
    "metadata <- metadata  %>% mutate(region = case_when(\n",
    "                                        subregion == 'North America' ~ 'North America',\n",
    "                                        subregion == 'Carribbean' ~ 'North America',\n",
    "                                        subregion == 'Central America' ~ 'North America',\n",
    "                                        subregion == 'South America' ~ 'South America',\n",
    "    \n",
    "                                        subregion == 'Western/Central Asia' ~ 'Asia',\n",
    "                                        subregion == 'South Asia' ~ 'Asia',            \n",
    "                                        subregion == 'South Asia' ~ 'Asia',\n",
    "                                        subregion == 'Southeast Asia' ~ 'Asia',\n",
    "                                        subregion == 'Western/Central Asia' ~ 'Asia',\n",
    "                                        subregion == 'East Asia' ~ 'Asia',\n",
    "    \n",
    "                                        subregion == 'Northern Europe' ~ 'Europe',\n",
    "                                        subregion == 'Eastern Europe' ~ 'Europe',\n",
    "                                        subregion == 'Western Europe' ~ 'Europe',\n",
    "                                        subregion == 'Southern Europe' ~ 'Europe',                \n",
    "\n",
    "                                        subregion == 'North Africa' ~ 'Africa',\n",
    "                                        subregion == 'West Africa' ~ 'Africa',\n",
    "                                        subregion == 'Central Africa' ~ 'Africa',\n",
    "                                        subregion == 'East Africa' ~ 'Africa',\n",
    "                                        subregion == 'Southern Africa' ~ 'Africa',\n",
    "\n",
    "                                        subregion == 'Oceania' ~ 'Oceania'))"
   ]
  },
  {
   "cell_type": "code",
   "execution_count": 163,
   "id": "b2e22ef1-f981-44df-974a-ed759dbc0955",
   "metadata": {},
   "outputs": [],
   "source": [
    "metadata <- metadata %>% select(!location)"
   ]
  },
  {
   "cell_type": "markdown",
   "id": "e3b6c8cc-a309-41e2-b5c6-22944123a722",
   "metadata": {},
   "source": [
    "### id"
   ]
  },
  {
   "cell_type": "code",
   "execution_count": 164,
   "id": "acd6b6d7-3f85-469a-9efb-02c194ac050b",
   "metadata": {},
   "outputs": [],
   "source": [
    "metadata <- metadata %>% rename(name = id)"
   ]
  },
  {
   "cell_type": "markdown",
   "id": "b625bc05-96e9-48e0-a1d4-9f68fa2d0e0c",
   "metadata": {},
   "source": [
    "### write"
   ]
  },
  {
   "cell_type": "code",
   "execution_count": 166,
   "id": "6e9018b7-2b3c-41ce-8100-d510945250c1",
   "metadata": {},
   "outputs": [],
   "source": [
    "write.table(metadata, file='/Users/nashwaahmed/OneDrive - UW/git/cholera/bactopia-runs/filter/metadata_clean.tsv', quote=FALSE, sep='\\t', row.names=FALSE)"
   ]
  },
  {
   "cell_type": "code",
   "execution_count": 167,
   "id": "8b92af0b-7387-4582-85c2-0bc573d002c1",
   "metadata": {},
   "outputs": [
    {
     "data": {
      "text/html": [
       "<table class=\"dataframe\">\n",
       "<caption>A data.frame: 1 × 13</caption>\n",
       "<thead>\n",
       "\t<tr><th scope=col>name</th><th scope=col>displayname</th><th scope=col>strain_id</th><th scope=col>latitude</th><th scope=col>longitude</th><th scope=col>year</th><th scope=col>serotype</th><th scope=col>source</th><th scope=col>country</th><th scope=col>date</th><th scope=col>isolation_source</th><th scope=col>subregion</th><th scope=col>region</th></tr>\n",
       "\t<tr><th scope=col>&lt;chr&gt;</th><th scope=col>&lt;chr&gt;</th><th scope=col>&lt;chr&gt;</th><th scope=col>&lt;dbl&gt;</th><th scope=col>&lt;dbl&gt;</th><th scope=col>&lt;int&gt;</th><th scope=col>&lt;chr&gt;</th><th scope=col>&lt;chr&gt;</th><th scope=col>&lt;chr&gt;</th><th scope=col>&lt;chr&gt;</th><th scope=col>&lt;chr&gt;</th><th scope=col>&lt;chr&gt;</th><th scope=col>&lt;chr&gt;</th></tr>\n",
       "</thead>\n",
       "<tbody>\n",
       "\t<tr><td>62ff5e6ca12ebaac0f9f907d</td><td>91</td><td></td><td>-18.6657</td><td>35.52956</td><td>2003</td><td>NA</td><td>stool</td><td>Mozambique</td><td>2003-XX-XX</td><td>Clinical</td><td>East Africa</td><td>Africa</td></tr>\n",
       "</tbody>\n",
       "</table>\n"
      ],
      "text/latex": [
       "A data.frame: 1 × 13\n",
       "\\begin{tabular}{lllllllllllll}\n",
       " name & displayname & strain\\_id & latitude & longitude & year & serotype & source & country & date & isolation\\_source & subregion & region\\\\\n",
       " <chr> & <chr> & <chr> & <dbl> & <dbl> & <int> & <chr> & <chr> & <chr> & <chr> & <chr> & <chr> & <chr>\\\\\n",
       "\\hline\n",
       "\t 62ff5e6ca12ebaac0f9f907d & 91 &  & -18.6657 & 35.52956 & 2003 & NA & stool & Mozambique & 2003-XX-XX & Clinical & East Africa & Africa\\\\\n",
       "\\end{tabular}\n"
      ],
      "text/markdown": [
       "\n",
       "A data.frame: 1 × 13\n",
       "\n",
       "| name &lt;chr&gt; | displayname &lt;chr&gt; | strain_id &lt;chr&gt; | latitude &lt;dbl&gt; | longitude &lt;dbl&gt; | year &lt;int&gt; | serotype &lt;chr&gt; | source &lt;chr&gt; | country &lt;chr&gt; | date &lt;chr&gt; | isolation_source &lt;chr&gt; | subregion &lt;chr&gt; | region &lt;chr&gt; |\n",
       "|---|---|---|---|---|---|---|---|---|---|---|---|---|\n",
       "| 62ff5e6ca12ebaac0f9f907d | 91 | <!----> | -18.6657 | 35.52956 | 2003 | NA | stool | Mozambique | 2003-XX-XX | Clinical | East Africa | Africa |\n",
       "\n"
      ],
      "text/plain": [
       "  name                     displayname strain_id latitude longitude year\n",
       "1 62ff5e6ca12ebaac0f9f907d 91                    -18.6657 35.52956  2003\n",
       "  serotype source country    date       isolation_source subregion   region\n",
       "1 NA       stool  Mozambique 2003-XX-XX Clinical         East Africa Africa"
      ]
     },
     "metadata": {},
     "output_type": "display_data"
    }
   ],
   "source": [
    "metadata %>% filter(displayname == '91')"
   ]
  }
 ],
 "metadata": {
  "kernelspec": {
   "display_name": "R",
   "language": "R",
   "name": "ir"
  },
  "language_info": {
   "codemirror_mode": "r",
   "file_extension": ".r",
   "mimetype": "text/x-r-source",
   "name": "R",
   "pygments_lexer": "r",
   "version": "4.3.0"
  }
 },
 "nbformat": 4,
 "nbformat_minor": 5
}
